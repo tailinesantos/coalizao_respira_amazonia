{
 "cells": [
  {
   "cell_type": "markdown",
   "id": "e9ff3666-99d4-4d3c-9826-f4e4bf888c54",
   "metadata": {},
   "source": [
    "Codigo elaborado por Tailine Correa (contato: tailine.atm@gmail.com)"
   ]
  },
  {
   "cell_type": "code",
   "execution_count": null,
   "id": "5c695532-0e52-4841-b567-9c6799c61439",
   "metadata": {},
   "outputs": [],
   "source": [
    "#Tratamento de dados"
   ]
  },
  {
   "cell_type": "code",
   "execution_count": 7,
   "id": "0f56e4d6",
   "metadata": {},
   "outputs": [],
   "source": [
    "##Library\n",
    "import os\n",
    "from glob import glob\n",
    "import datetime\n",
    "import pandas as pd\n",
    "import csv\n",
    "import plotly as plt\n",
    "#import missingno"
   ]
  },
  {
   "cell_type": "code",
   "execution_count": 14,
   "id": "911ecd13",
   "metadata": {},
   "outputs": [],
   "source": [
    "##Read data\n",
    "os.chdir(r'C:\\Users\\taili\\OneDrive\\Área de Trabalho\\Instituto Saude e Sustentabilidade\\Monitoramento acre')\n",
    "dt=pd.read_csv('Primary_Real_Time_outside.csv').iloc[:,1:]\n",
    "dt.columns= ['date', 'id', 'PM1_CF1','PM25_CF1', 'PM10_CF1', 'UptimeMinutes', 'RSSI_dbm',\n",
    "          'Temp_F', 'Hum', 'PM25_ATM', 'estado', 'estacao','local', 'tipo', 't_inicial', 't_final']\n",
    "dt=dt[['date', 'id','PM25_CF1','PM25_ATM', 'estado', 'estacao','local', 'tipo', 't_inicial', 't_final']]"
   ]
  },
  {
   "cell_type": "code",
   "execution_count": 16,
   "id": "1fb9a4b2",
   "metadata": {},
   "outputs": [],
   "source": [
    "##Arrumando dados: data, duplicatas, \n",
    "dt.date=dt.date.str[:-6]+'00'\n",
    "dt.drop_duplicates(subset=['date','estado','estacao','local'],inplace=True)\n",
    "dt['date'] = pd.to_datetime(dt['date'], format='%Y-%m-%d %H:%M:%S')\n",
    "dt=dt.set_index('date')"
   ]
  },
  {
   "cell_type": "code",
   "execution_count": 17,
   "id": "65ba2e8c",
   "metadata": {},
   "outputs": [],
   "source": [
    "##dados a cada 2 min\n",
    "dt2=dt.groupby(by=['estado', 'estacao', 'local', 'tipo','t_inicial', 't_final']).resample('2min')[('PM25_CF1', 'PM25_ATM')].mean()\n",
    "dt2.reset_index(inplace=True)"
   ]
  },
  {
   "cell_type": "code",
   "execution_count": 18,
   "id": "14e43b92",
   "metadata": {},
   "outputs": [
    {
     "data": {
      "text/plain": [
       "(11415693, 9)"
      ]
     },
     "execution_count": 18,
     "metadata": {},
     "output_type": "execute_result"
    }
   ],
   "source": [
    "##Conferindo\n",
    "dt2.PM25_CF1.isnull().sum()\n",
    "dt2.shape"
   ]
  },
  {
   "cell_type": "code",
   "execution_count": 19,
   "id": "4005a3a6",
   "metadata": {},
   "outputs": [],
   "source": [
    "##Verificando os nulos: quantidade/porcentagem\n",
    "df_null=dt2.PM25_CF1.isnull().groupby([dt2['estado'],dt2['estacao'],dt2['local']]).sum().astype(int).reset_index(name='count')\n",
    "df_null=df_null.merge(dt2.groupby(['estado','estacao','local'],as_index=False)['tipo'].count())\n",
    "df_null['null_pct']=100*(df_null['count']/df_null.tipo)\n",
    "df_null['date']=df_null.tipo-df_null['count']\n",
    "df_null['date_pct']=100*(df_null['date']/df_null.tipo)\n",
    "\n",
    "##Salvando em csv\n",
    "df_null.to_csv('Tabela_minuto_Primary_Real_Time_outside.csv')\n",
    "#dt2[(dt2.estacao=='MPAP_AAP_01_promotoria (outside)')]"
   ]
  },
  {
   "cell_type": "code",
   "execution_count": 21,
   "id": "204d2fa5",
   "metadata": {},
   "outputs": [
    {
     "name": "stderr",
     "output_type": "stream",
     "text": [
      "C:\\Users\\taili\\AppData\\Local\\Temp\\ipykernel_9368\\3100649473.py:2: SettingWithCopyWarning: \n",
      "A value is trying to be set on a copy of a slice from a DataFrame\n",
      "\n",
      "See the caveats in the documentation: https://pandas.pydata.org/pandas-docs/stable/user_guide/indexing.html#returning-a-view-versus-a-copy\n",
      "  dt2.flg_null_H[dt2.PM25_CF1.isnull()]=1\n"
     ]
    }
   ],
   "source": [
    "##Tratamento para os dados horarios\n",
    "\n",
    "dt2['flg_null_H']=0\n",
    "dt2.flg_null_H[dt2.PM25_CF1.isnull()]=1\n",
    "dt2=dt2.set_index('date')\n",
    "\n",
    "df_h=dt2.groupby(by=['estado', 'estacao', 'local', 'tipo','t_inicial', 't_final']).resample('1H').agg({'PM25_CF1':'mean', 'PM25_ATM':'mean','flg_null_H':['count','sum']})\n",
    "df_h.columns=['PM25_CF1','PM25_ATM','max','count_null_H']\n",
    "df_h['null_pct_H']=100*(df_h['count_null_H']/df_h['max'])\n",
    "df_h=df_h[['PM25_CF1','PM25_ATM','max','count_null_H','null_pct_H']].reset_index()\n",
    "df_h.head()"
   ]
  },
  {
   "cell_type": "code",
   "execution_count": 25,
   "id": "c20f00a3",
   "metadata": {},
   "outputs": [
    {
     "name": "stderr",
     "output_type": "stream",
     "text": [
      "C:\\Users\\taili\\AppData\\Local\\Temp\\ipykernel_9368\\2984518646.py:3: SettingWithCopyWarning: \n",
      "A value is trying to be set on a copy of a slice from a DataFrame\n",
      "\n",
      "See the caveats in the documentation: https://pandas.pydata.org/pandas-docs/stable/user_guide/indexing.html#returning-a-view-versus-a-copy\n",
      "  df_h_tratado.PM25_CF1[df_h_tratado.null_pct_H>=25]=None\n",
      "C:\\Users\\taili\\AppData\\Local\\Temp\\ipykernel_9368\\2984518646.py:4: SettingWithCopyWarning: \n",
      "A value is trying to be set on a copy of a slice from a DataFrame\n",
      "\n",
      "See the caveats in the documentation: https://pandas.pydata.org/pandas-docs/stable/user_guide/indexing.html#returning-a-view-versus-a-copy\n",
      "  df_h_tratado.PM25_ATM[df_h_tratado.null_pct_H>=25]=None\n"
     ]
    },
    {
     "data": {
      "text/html": [
       "<div>\n",
       "<style scoped>\n",
       "    .dataframe tbody tr th:only-of-type {\n",
       "        vertical-align: middle;\n",
       "    }\n",
       "\n",
       "    .dataframe tbody tr th {\n",
       "        vertical-align: top;\n",
       "    }\n",
       "\n",
       "    .dataframe thead th {\n",
       "        text-align: right;\n",
       "    }\n",
       "</style>\n",
       "<table border=\"1\" class=\"dataframe\">\n",
       "  <thead>\n",
       "    <tr style=\"text-align: right;\">\n",
       "      <th></th>\n",
       "      <th>estado</th>\n",
       "      <th>estacao</th>\n",
       "      <th>local</th>\n",
       "      <th>tipo</th>\n",
       "      <th>t_inicial</th>\n",
       "      <th>t_final</th>\n",
       "      <th>date</th>\n",
       "      <th>PM25_CF1</th>\n",
       "      <th>PM25_ATM</th>\n",
       "      <th>max</th>\n",
       "      <th>count_null_H</th>\n",
       "      <th>null_pct_H</th>\n",
       "    </tr>\n",
       "  </thead>\n",
       "  <tbody>\n",
       "    <tr>\n",
       "      <th>0</th>\n",
       "      <td>s Air_Purple</td>\n",
       "      <td>Amapa\\MPAP_AAP_01_promotoria (outside)</td>\n",
       "      <td>(2.04586 -50.792344)</td>\n",
       "      <td>Primary Real Time</td>\n",
       "      <td>08_06_2020</td>\n",
       "      <td>08_31_2022</td>\n",
       "      <td>2021-04-02 19:00:00</td>\n",
       "      <td>272.072727</td>\n",
       "      <td>181.129091</td>\n",
       "      <td>24</td>\n",
       "      <td>2</td>\n",
       "      <td>8.333333</td>\n",
       "    </tr>\n",
       "    <tr>\n",
       "      <th>1</th>\n",
       "      <td>s Air_Purple</td>\n",
       "      <td>Amapa\\MPAP_AAP_01_promotoria (outside)</td>\n",
       "      <td>(2.04586 -50.792344)</td>\n",
       "      <td>Primary Real Time</td>\n",
       "      <td>08_06_2020</td>\n",
       "      <td>08_31_2022</td>\n",
       "      <td>2021-04-02 20:00:00</td>\n",
       "      <td>134.282000</td>\n",
       "      <td>92.140333</td>\n",
       "      <td>30</td>\n",
       "      <td>0</td>\n",
       "      <td>0.000000</td>\n",
       "    </tr>\n",
       "    <tr>\n",
       "      <th>2</th>\n",
       "      <td>s Air_Purple</td>\n",
       "      <td>Amapa\\MPAP_AAP_01_promotoria (outside)</td>\n",
       "      <td>(2.04586 -50.792344)</td>\n",
       "      <td>Primary Real Time</td>\n",
       "      <td>08_06_2020</td>\n",
       "      <td>08_31_2022</td>\n",
       "      <td>2021-04-02 21:00:00</td>\n",
       "      <td>NaN</td>\n",
       "      <td>NaN</td>\n",
       "      <td>30</td>\n",
       "      <td>21</td>\n",
       "      <td>70.000000</td>\n",
       "    </tr>\n",
       "    <tr>\n",
       "      <th>3</th>\n",
       "      <td>s Air_Purple</td>\n",
       "      <td>Amapa\\MPAP_AAP_01_promotoria (outside)</td>\n",
       "      <td>(2.04586 -50.792344)</td>\n",
       "      <td>Primary Real Time</td>\n",
       "      <td>08_06_2020</td>\n",
       "      <td>08_31_2022</td>\n",
       "      <td>2021-04-02 22:00:00</td>\n",
       "      <td>NaN</td>\n",
       "      <td>NaN</td>\n",
       "      <td>30</td>\n",
       "      <td>30</td>\n",
       "      <td>100.000000</td>\n",
       "    </tr>\n",
       "    <tr>\n",
       "      <th>4</th>\n",
       "      <td>s Air_Purple</td>\n",
       "      <td>Amapa\\MPAP_AAP_01_promotoria (outside)</td>\n",
       "      <td>(2.04586 -50.792344)</td>\n",
       "      <td>Primary Real Time</td>\n",
       "      <td>08_06_2020</td>\n",
       "      <td>08_31_2022</td>\n",
       "      <td>2021-04-02 23:00:00</td>\n",
       "      <td>NaN</td>\n",
       "      <td>NaN</td>\n",
       "      <td>30</td>\n",
       "      <td>30</td>\n",
       "      <td>100.000000</td>\n",
       "    </tr>\n",
       "  </tbody>\n",
       "</table>\n",
       "</div>"
      ],
      "text/plain": [
       "         estado                                 estacao  \\\n",
       "0  s Air_Purple  Amapa\\MPAP_AAP_01_promotoria (outside)   \n",
       "1  s Air_Purple  Amapa\\MPAP_AAP_01_promotoria (outside)   \n",
       "2  s Air_Purple  Amapa\\MPAP_AAP_01_promotoria (outside)   \n",
       "3  s Air_Purple  Amapa\\MPAP_AAP_01_promotoria (outside)   \n",
       "4  s Air_Purple  Amapa\\MPAP_AAP_01_promotoria (outside)   \n",
       "\n",
       "                   local                tipo   t_inicial     t_final  \\\n",
       "0   (2.04586 -50.792344)   Primary Real Time  08_06_2020  08_31_2022   \n",
       "1   (2.04586 -50.792344)   Primary Real Time  08_06_2020  08_31_2022   \n",
       "2   (2.04586 -50.792344)   Primary Real Time  08_06_2020  08_31_2022   \n",
       "3   (2.04586 -50.792344)   Primary Real Time  08_06_2020  08_31_2022   \n",
       "4   (2.04586 -50.792344)   Primary Real Time  08_06_2020  08_31_2022   \n",
       "\n",
       "                 date    PM25_CF1    PM25_ATM  max  count_null_H  null_pct_H  \n",
       "0 2021-04-02 19:00:00  272.072727  181.129091   24             2    8.333333  \n",
       "1 2021-04-02 20:00:00  134.282000   92.140333   30             0    0.000000  \n",
       "2 2021-04-02 21:00:00         NaN         NaN   30            21   70.000000  \n",
       "3 2021-04-02 22:00:00         NaN         NaN   30            30  100.000000  \n",
       "4 2021-04-02 23:00:00         NaN         NaN   30            30  100.000000  "
      ]
     },
     "execution_count": 25,
     "metadata": {},
     "output_type": "execute_result"
    }
   ],
   "source": [
    "###Porcentagem de dados aceitos para a média horária\n",
    "df_h_tratado=df_h.copy()\n",
    "df_h_tratado.PM25_CF1[df_h_tratado.null_pct_H>=25]=None\n",
    "df_h_tratado.PM25_ATM[df_h_tratado.null_pct_H>=25]=None\n",
    "df_h_tratado.head()\n",
    "\n",
    "df_null=df_h_tratado.PM25_CF1.isnull().groupby([df_h_tratado['estacao'],df_h_tratado['local']]).sum().astype(int).reset_index(name='count')\n",
    "df_null=df_null.merge(df_h_tratado.groupby(['estacao','local'],as_index=False)['tipo'].count())\n",
    "df_null['null_pct']=100*(df_null['count']/df_null.tipo)\n",
    "df_null['date']=df_null['tipo']-df_null['count']\n",
    "df_null['date_pct']=100*(df_null['date']/df_null['tipo'])"
   ]
  },
  {
   "cell_type": "code",
   "execution_count": 27,
   "id": "4b3f351e",
   "metadata": {},
   "outputs": [],
   "source": [
    "### salvando tabelas e dados horarios\n",
    "df_null.to_csv('Tabela_hora_Primary_Real_Time_outside.csv')\n",
    "df_h_tratado.to_csv('Dado_hora_Primary_Real_Time_outside.csv')"
   ]
  },
  {
   "cell_type": "code",
   "execution_count": 28,
   "id": "26ae7ffc",
   "metadata": {},
   "outputs": [
    {
     "name": "stderr",
     "output_type": "stream",
     "text": [
      "C:\\Users\\taili\\AppData\\Local\\Temp\\ipykernel_9368\\126146970.py:4: SettingWithCopyWarning: \n",
      "A value is trying to be set on a copy of a slice from a DataFrame\n",
      "\n",
      "See the caveats in the documentation: https://pandas.pydata.org/pandas-docs/stable/user_guide/indexing.html#returning-a-view-versus-a-copy\n",
      "  dt.flg_null_D[dt.PM25_CF1.isnull()]=1\n"
     ]
    }
   ],
   "source": [
    "##Tratamento para os dados diários\n",
    "dt=df_h_tratado\n",
    "dt['flg_null_D']=0\n",
    "dt.flg_null_D[dt.PM25_CF1.isnull()]=1\n",
    "dt=dt.set_index('date')\n",
    "df_d=dt.groupby(by=['estado', 'estacao', 'local', 'tipo','t_inicial', 't_final']).resample('1D').agg({'PM25_CF1':'mean', 'PM25_ATM':'mean','flg_null_D':['count','sum']})\n",
    "df_d.columns=['PM25_CF1','PM25_ATM','max','count_null_D']\n",
    "df_d['null_pct_D']=100*(df_d['count_null_D']/df_d['max'])\n",
    "\n",
    "df_d=df_d[['PM25_CF1','PM25_ATM','max','count_null_D','null_pct_D']].reset_index()\n",
    "\n"
   ]
  },
  {
   "cell_type": "code",
   "execution_count": 29,
   "id": "19b62cc4",
   "metadata": {},
   "outputs": [
    {
     "name": "stderr",
     "output_type": "stream",
     "text": [
      "C:\\Users\\taili\\AppData\\Local\\Temp\\ipykernel_9368\\1556751038.py:3: SettingWithCopyWarning: \n",
      "A value is trying to be set on a copy of a slice from a DataFrame\n",
      "\n",
      "See the caveats in the documentation: https://pandas.pydata.org/pandas-docs/stable/user_guide/indexing.html#returning-a-view-versus-a-copy\n",
      "  df_d_tratado.PM25_CF1[df_d_tratado.null_pct_D>=33]=None\n",
      "C:\\Users\\taili\\AppData\\Local\\Temp\\ipykernel_9368\\1556751038.py:4: SettingWithCopyWarning: \n",
      "A value is trying to be set on a copy of a slice from a DataFrame\n",
      "\n",
      "See the caveats in the documentation: https://pandas.pydata.org/pandas-docs/stable/user_guide/indexing.html#returning-a-view-versus-a-copy\n",
      "  df_d_tratado.PM25_ATM[df_d_tratado.null_pct_D>=33]=None\n"
     ]
    }
   ],
   "source": [
    "###porcentagem de dados aceitos para a média diária\n",
    "df_d_tratado=df_d.copy()\n",
    "df_d_tratado.PM25_CF1[df_d_tratado.null_pct_D>=33]=None\n",
    "df_d_tratado.PM25_ATM[df_d_tratado.null_pct_D>=33]=None\n",
    "df_d_tratado\n",
    "\n",
    "df_null=df_d_tratado.PM25_CF1.isnull().groupby([df_d_tratado['estacao'],df_d_tratado['local']]).sum().astype(int).reset_index(name='count')\n",
    "df_null=df_null.merge(df_d_tratado.groupby(['estacao','local'],as_index=False)['tipo'].count())\n",
    "\n",
    "df_null['null_pct']=100*(df_null['count']/df_null.tipo)\n",
    "df_null['data']=df_null['tipo']-df_null['count']\n",
    "df_null['data_pct']=100*(df_null['data']/df_null['tipo'])"
   ]
  },
  {
   "cell_type": "code",
   "execution_count": 30,
   "id": "3c5c7c14",
   "metadata": {},
   "outputs": [],
   "source": [
    "###Salvando tabela com detalhes e dado diário\n",
    "df_null.to_csv('Tabela_dia_Primary_Real_Time_outside.csv')\n",
    "df_d_tratado.to_csv('Dado_dia_Primary_Real_Time_outside.csv')"
   ]
  },
  {
   "cell_type": "code",
   "execution_count": null,
   "id": "6e5c44f8",
   "metadata": {},
   "outputs": [],
   "source": []
  },
  {
   "cell_type": "code",
   "execution_count": null,
   "id": "79881d86",
   "metadata": {},
   "outputs": [],
   "source": []
  },
  {
   "cell_type": "code",
   "execution_count": null,
   "id": "b75985cd",
   "metadata": {},
   "outputs": [],
   "source": []
  },
  {
   "cell_type": "code",
   "execution_count": null,
   "id": "64a6dad7",
   "metadata": {},
   "outputs": [],
   "source": []
  },
  {
   "cell_type": "code",
   "execution_count": null,
   "id": "00847c7b",
   "metadata": {},
   "outputs": [],
   "source": []
  }
 ],
 "metadata": {
  "kernelspec": {
   "display_name": "Python 3 (ipykernel)",
   "language": "python",
   "name": "python3"
  },
  "language_info": {
   "codemirror_mode": {
    "name": "ipython",
    "version": 3
   },
   "file_extension": ".py",
   "mimetype": "text/x-python",
   "name": "python",
   "nbconvert_exporter": "python",
   "pygments_lexer": "ipython3",
   "version": "3.11.7"
  }
 },
 "nbformat": 4,
 "nbformat_minor": 5
}
